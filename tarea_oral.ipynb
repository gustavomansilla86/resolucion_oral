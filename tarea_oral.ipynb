{
 "cells": [
  {
   "cell_type": "code",
   "execution_count": 1,
   "metadata": {},
   "outputs": [],
   "source": [
    "lista_tareas=[]\n",
    "\n",
    "def mostar_lista():\n",
    "    contador=0\n",
    "    for i in lista_tareas:\n",
    "     contador +=1\n",
    "     print( \"tarea numero: \",contador , i)"
   ]
  },
  {
   "cell_type": "markdown",
   "metadata": {},
   "source": [
    "cree un clase padre llamada tarea general con su metodo contructor y dos mas el de agregar y eliminar tareas ademas tiene declaracion try y except por si se quiere eliminar una tarea que ya no se encuentra en la lista "
   ]
  },
  {
   "cell_type": "code",
   "execution_count": 2,
   "metadata": {},
   "outputs": [],
   "source": [
    "class TareasGral:\n",
    "    def __init__(self,nombre,descripcion,prioridad):\n",
    "        self.nombre = nombre\n",
    "        self.descripcion = descripcion\n",
    "        self.prioridad = prioridad\n",
    "  \n",
    "    def agregar(self):\n",
    "        lista_tareas.append({\"nombre\":self.nombre,\"descripcion\":self.descripcion,\"prioridad\":self.prioridad})\n",
    "    def eliminar(self):\n",
    "    \n",
    "      eliminar = {\n",
    "            \"nombre\": self.nombre,\n",
    "            \"descripcion\": self.descripcion,\n",
    "            \"prioridad\": self.prioridad\n",
    "         }\n",
    "      try:\n",
    "            lista_tareas.remove(eliminar)\n",
    "      except ValueError:\n",
    "            print(\"tarea no se encuentra en la lista\")"
   ]
  },
  {
   "cell_type": "markdown",
   "metadata": {},
   "source": [
    "se creo una clase hija o sub clase ultilizando los atributos y metodos de la clase padre y super clase "
   ]
  },
  {
   "cell_type": "code",
   "execution_count": 3,
   "metadata": {},
   "outputs": [],
   "source": [
    "class TareaConfecha(TareasGral):\n",
    "    def __init__(self, nombre,descripcion,prioridad, fecha):\n",
    "        super().__init__(nombre,descripcion,prioridad)\n",
    "        self.fecha = fecha\n",
    "\n",
    "    def agregar(self):\n",
    "        super().agregar()\n",
    "        lista_tareas[-1][\"fecha\"] = self.fecha\n",
    "    def eliminar(self):\n",
    "    \n",
    "      eliminar = {\"nombre\": self.nombre,\"descripcion\": self.descripcion,\"prioridad\": self.prioridad,\"fecha\":self.fecha}\n",
    "      try:\n",
    "            lista_tareas.remove(eliminar)\n",
    "      except ValueError:\n",
    "            print(\"tarea no se encuentra en la lista\")"
   ]
  },
  {
   "cell_type": "markdown",
   "metadata": {},
   "source": [
    "se crea 4 instancia con distinta cantidad de atributos "
   ]
  },
  {
   "cell_type": "code",
   "execution_count": 4,
   "metadata": {},
   "outputs": [],
   "source": [
    "tarea1f=TareaConfecha(\"clase 1\",\"escrito\",\"baja\",\"12-07-2024\")\n",
    "tarea2f=TareaConfecha(\"clase 2\",\"practico\",\"media\",\"08-06-2024\")\n",
    "tarea1=TareasGral(\"oral\",\"describir codigo\",\"alta\")\n",
    "tarea2=TareasGral(\"escrito\",\"explicar funcionamiento\",\"baja\")\n"
   ]
  },
  {
   "cell_type": "markdown",
   "metadata": {},
   "source": [
    "funcion para mostrar lista en este caso deberia estar vacia"
   ]
  },
  {
   "cell_type": "code",
   "execution_count": 5,
   "metadata": {},
   "outputs": [],
   "source": [
    "mostar_lista()"
   ]
  },
  {
   "cell_type": "markdown",
   "metadata": {},
   "source": [
    "se usa el metodo agregar para sumar las instacias a la lista en forma de diccionario "
   ]
  },
  {
   "cell_type": "code",
   "execution_count": 6,
   "metadata": {},
   "outputs": [],
   "source": [
    "\n",
    "tarea1f.agregar()\n",
    "tarea2f.agregar()\n",
    "tarea1.agregar()\n",
    "tarea2.agregar()\n"
   ]
  },
  {
   "cell_type": "code",
   "execution_count": 7,
   "metadata": {},
   "outputs": [
    {
     "name": "stdout",
     "output_type": "stream",
     "text": [
      "tarea numero:  1 {'nombre': 'clase 1', 'descripcion': 'escrito', 'prioridad': 'baja', 'fecha': '12-07-2024'}\n",
      "tarea numero:  2 {'nombre': 'clase 2', 'descripcion': 'practico', 'prioridad': 'media', 'fecha': '08-06-2024'}\n",
      "tarea numero:  3 {'nombre': 'oral', 'descripcion': 'describir codigo', 'prioridad': 'alta'}\n",
      "tarea numero:  4 {'nombre': 'escrito', 'descripcion': 'explicar funcionamiento', 'prioridad': 'baja'}\n"
     ]
    }
   ],
   "source": [
    "mostar_lista()"
   ]
  },
  {
   "cell_type": "markdown",
   "metadata": {},
   "source": [
    "usamos el metodo para eliminar tareas"
   ]
  },
  {
   "cell_type": "code",
   "execution_count": 8,
   "metadata": {},
   "outputs": [],
   "source": [
    "tarea1f.eliminar()\n",
    "tarea2f.eliminar()\n",
    "tarea2.eliminar()"
   ]
  },
  {
   "cell_type": "markdown",
   "metadata": {},
   "source": [
    "mostrar nuevamente la lista "
   ]
  },
  {
   "cell_type": "code",
   "execution_count": 9,
   "metadata": {},
   "outputs": [
    {
     "name": "stdout",
     "output_type": "stream",
     "text": [
      "tarea numero:  1 {'nombre': 'oral', 'descripcion': 'describir codigo', 'prioridad': 'alta'}\n"
     ]
    }
   ],
   "source": [
    "mostar_lista()"
   ]
  }
 ],
 "metadata": {
  "kernelspec": {
   "display_name": "Python 3",
   "language": "python",
   "name": "python3"
  },
  "language_info": {
   "codemirror_mode": {
    "name": "ipython",
    "version": 3
   },
   "file_extension": ".py",
   "mimetype": "text/x-python",
   "name": "python",
   "nbconvert_exporter": "python",
   "pygments_lexer": "ipython3",
   "version": "3.11.9"
  }
 },
 "nbformat": 4,
 "nbformat_minor": 2
}
