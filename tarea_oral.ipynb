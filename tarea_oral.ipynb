{
 "cells": [
  {
   "cell_type": "code",
   "execution_count": 10,
   "metadata": {},
   "outputs": [],
   "source": [
    "lista_de_tareas=[]\n",
    "\n",
    "class TareaGeneral:\n",
    "    def __init__(self, nombre, descripcion, prioridad):\n",
    "        self.nombre = nombre\n",
    "        self.descripcion= descripcion\n",
    "        self.prioridad = prioridad\n",
    "    def agregar_tareas(self):\n",
    "        lista_de_tareas.append(self.nombre)\n",
    "        lista_de_tareas.append(self.descripcion,)\n",
    "        lista_de_tareas.append(self.prioridad)\n",
    "    def mostrar_tareas(self):\n",
    "        for i in lista_de_tareas:\n",
    "            print(i)\n",
    "\n",
    "class TareaConFecha(TareaGeneral):\n",
    "    def __init__(self, nombre, descripcion, prioridad, fecha):\n",
    "        super().__init__(nombre, descripcion, prioridad)\n",
    "        self.fecha = fecha"
   ]
  },
  {
   "cell_type": "code",
   "execution_count": 11,
   "metadata": {},
   "outputs": [
    {
     "name": "stdout",
     "output_type": "stream",
     "text": [
      "['oral_1', 'se debe realizar una instacioa oral', 'alta', 'oral_2', 'se debe realizar una instacia oral', 'baja']\n"
     ]
    }
   ],
   "source": [
    "tarea1=TareaGeneral(nombre=\"oral_1\",descripcion=\"se debe realizar una instacioa oral\",prioridad=\"alta\")\n",
    "tarea2=TareaGeneral(nombre=\"oral_2\",descripcion=\"se debe realizar una instacia oral\",prioridad=\"baja\")\n",
    "tarea1.agregar_tareas()\n",
    "tarea2.agregar_tareas()\n",
    "print(lista_de_tareas)"
   ]
  }
 ],
 "metadata": {
  "kernelspec": {
   "display_name": "Python 3",
   "language": "python",
   "name": "python3"
  },
  "language_info": {
   "codemirror_mode": {
    "name": "ipython",
    "version": 3
   },
   "file_extension": ".py",
   "mimetype": "text/x-python",
   "name": "python",
   "nbconvert_exporter": "python",
   "pygments_lexer": "ipython3",
   "version": "3.11.9"
  }
 },
 "nbformat": 4,
 "nbformat_minor": 2
}
